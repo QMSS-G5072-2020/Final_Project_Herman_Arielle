{
 "cells": [
  {
   "cell_type": "markdown",
   "metadata": {},
   "source": [
    "Final Project Vignette Examples"
   ]
  },
  {
   "cell_type": "code",
   "execution_count": 1,
   "metadata": {},
   "outputs": [],
   "source": [
    "import final_project_herman"
   ]
  },
  {
   "cell_type": "code",
   "execution_count": 2,
   "metadata": {},
   "outputs": [
    {
     "name": "stdout",
     "output_type": "stream",
     "text": [
      "8971c\n"
     ]
    }
   ],
   "source": [
    "bc_api_key = os.getenv(\"POETRY_BC_LIBRARY_API_KEY\")\n",
    "print(bc_api_key[:5])"
   ]
  },
  {
   "cell_type": "code",
   "execution_count": 3,
   "metadata": {},
   "outputs": [
    {
     "name": "stdout",
     "output_type": "stream",
     "text": [
      "The status of this request is:  200 . Please wait. \n",
      "\n",
      "aaah is a currently listed collection. \n",
      "\n",
      "xxx is not a current collection in the University of British Columbia Library. \n",
      "Please check your spelling or check the output to see available collections.\n"
     ]
    },
    {
     "data": {
      "text/html": [
       "<div>\n",
       "<style scoped>\n",
       "    .dataframe tbody tr th:only-of-type {\n",
       "        vertical-align: middle;\n",
       "    }\n",
       "\n",
       "    .dataframe tbody tr th {\n",
       "        vertical-align: top;\n",
       "    }\n",
       "\n",
       "    .dataframe thead th {\n",
       "        text-align: right;\n",
       "    }\n",
       "</style>\n",
       "<table border=\"1\" class=\"dataframe\">\n",
       "  <thead>\n",
       "    <tr style=\"text-align: right;\">\n",
       "      <th></th>\n",
       "      <th>CollectionID</th>\n",
       "      <th>CollectionName</th>\n",
       "      <th>description</th>\n",
       "      <th>items</th>\n",
       "    </tr>\n",
       "  </thead>\n",
       "  <tbody>\n",
       "    <tr>\n",
       "      <th>0</th>\n",
       "      <td>aaah</td>\n",
       "      <td>Newspapers - The Alice Arm and Anyox Herald</td>\n",
       "      <td></td>\n",
       "      <td>707</td>\n",
       "    </tr>\n",
       "    <tr>\n",
       "      <th>1</th>\n",
       "      <td>alumchron</td>\n",
       "      <td>The Graduate Chronicle/The UBC Alumni Chronicl...</td>\n",
       "      <td>Published since 1931 by the UBC Alumni Associa...</td>\n",
       "      <td>282</td>\n",
       "    </tr>\n",
       "    <tr>\n",
       "      <th>2</th>\n",
       "      <td>310</td>\n",
       "      <td>SCARP Graduating Projects</td>\n",
       "      <td></td>\n",
       "      <td>210</td>\n",
       "    </tr>\n",
       "    <tr>\n",
       "      <th>3</th>\n",
       "      <td>494</td>\n",
       "      <td>Library Staff Publications and Research</td>\n",
       "      <td>This collection includes published papers, wor...</td>\n",
       "      <td>217</td>\n",
       "    </tr>\n",
       "    <tr>\n",
       "      <th>4</th>\n",
       "      <td>641</td>\n",
       "      <td>UBC Press Publications, Supplements, and Catal...</td>\n",
       "      <td>Here you will find online supplements to books...</td>\n",
       "      <td>124</td>\n",
       "    </tr>\n",
       "    <tr>\n",
       "      <th>5</th>\n",
       "      <td>831</td>\n",
       "      <td>Retrospective Theses and Dissertations, 1919-2007</td>\n",
       "      <td>The UBC Library has completed the Retrospectiv...</td>\n",
       "      <td>32002</td>\n",
       "    </tr>\n",
       "    <tr>\n",
       "      <th>6</th>\n",
       "      <td>12708</td>\n",
       "      <td>Vancouver Institute Lectures</td>\n",
       "      <td>Since 1916 the Vancouver Institute (VI) has sp...</td>\n",
       "      <td>654</td>\n",
       "    </tr>\n",
       "    <tr>\n",
       "      <th>7</th>\n",
       "      <td>18861</td>\n",
       "      <td>UBC Social Ecological Economic Development Stu...</td>\n",
       "      <td></td>\n",
       "      <td>1246</td>\n",
       "    </tr>\n",
       "    <tr>\n",
       "      <th>8</th>\n",
       "      <td>bcdocs</td>\n",
       "      <td>BC Historical Documents</td>\n",
       "      <td>TEST description</td>\n",
       "      <td>921</td>\n",
       "    </tr>\n",
       "    <tr>\n",
       "      <th>9</th>\n",
       "      <td>25332</td>\n",
       "      <td>UBC Authors and Their Works Program, 1991-2006</td>\n",
       "      <td></td>\n",
       "      <td>17</td>\n",
       "    </tr>\n",
       "  </tbody>\n",
       "</table>\n",
       "</div>"
      ],
      "text/plain": [
       "  CollectionID                                     CollectionName  \\\n",
       "0         aaah        Newspapers - The Alice Arm and Anyox Herald   \n",
       "1    alumchron  The Graduate Chronicle/The UBC Alumni Chronicl...   \n",
       "2          310                          SCARP Graduating Projects   \n",
       "3          494            Library Staff Publications and Research   \n",
       "4          641  UBC Press Publications, Supplements, and Catal...   \n",
       "5          831  Retrospective Theses and Dissertations, 1919-2007   \n",
       "6        12708                       Vancouver Institute Lectures   \n",
       "7        18861  UBC Social Ecological Economic Development Stu...   \n",
       "8       bcdocs                            BC Historical Documents   \n",
       "9        25332     UBC Authors and Their Works Program, 1991-2006   \n",
       "\n",
       "                                         description  items  \n",
       "0                                                       707  \n",
       "1  Published since 1931 by the UBC Alumni Associa...    282  \n",
       "2                                                       210  \n",
       "3  This collection includes published papers, wor...    217  \n",
       "4  Here you will find online supplements to books...    124  \n",
       "5  The UBC Library has completed the Retrospectiv...  32002  \n",
       "6  Since 1916 the Vancouver Institute (VI) has sp...    654  \n",
       "7                                                      1246  \n",
       "8                                  TEST description     921  \n",
       "9                                                        17  "
      ]
     },
     "execution_count": 3,
     "metadata": {},
     "output_type": "execute_result"
    }
   ],
   "source": [
    "def collections(*searches, api_key=\"ac40e6c2cb345593ed1691e0a8b601bba398e42d85f81f893c5ab709cec63c6c\"):\n",
    "    # 1. api_key\n",
    "    if api_key==\"ac40e6c2cb345593ed1691e0a8b601bba398e42d85f81f893c5ab709cec63c6c\":\n",
    "        print('This function utilizes the British Columbia Library public API Key by default, '\n",
    "              'which limits requests to 10 per minute. '\n",
    "              'Please register for a free private API Key to make up to 200 requests per minute. \\n')\n",
    "    \n",
    "    # 2. \n",
    "    params = {'api_key':api_key}\n",
    "    r = requests.get(f'https://oc2-index.library.ubc.ca/collections', params=params)\n",
    "    print('The status of this request is: ', r.status_code, '. Please wait. \\n')\n",
    "    rseries = pd.DataFrame(r.json()).loc[:, ['data']].applymap(str) # change request into dataframe and make it str, to enable merge\n",
    "    \n",
    "    # 3. get metadata\n",
    "    items_dict = {}\n",
    "    i = 0\n",
    "    for name in rseries['data'][:10]:\n",
    "        ritems = requests.get(f'https://oc2-index.library.ubc.ca/collections/{str(name)}', params=params).json()['data']\n",
    "        items_dict[i] = [name, ritems['title'], ritems['description'], ritems['items']]\n",
    "        i += 1\n",
    "     \n",
    "    # 4. check\n",
    "    for search in searches:\n",
    "        if search in ritems['title'] or search in rseries['data'].any():\n",
    "            print(f'{search} is a currently listed collection. \\n')\n",
    "        else:\n",
    "            print(f'{search} is not a current collection in the University of British Columbia Library. \\n'\n",
    "                  'Please check your spelling or check the output to see available collections.')    \n",
    "        \n",
    "    items_df = pd.DataFrame.from_dict(items_dict, orient='index',\n",
    "                                      columns=['CollectionID','CollectionName', 'description', 'items'])\n",
    "    items_clean = items_df.replace(to_replace=[r'</?(p|span|title|i|a)(\\s(class|style)=\"\\w*\\W*?.?\")?>|\\r\\n|&#\\d{1,5}'], value=[''], regex=True)\n",
    "    \n",
    "    return items_clean\n",
    "x = collections(\"aaah\", \"xxx\", api_key=bc_api_key)\n",
    "x"
   ]
  },
  {
   "cell_type": "code",
   "execution_count": null,
   "metadata": {},
   "outputs": [],
   "source": []
  }
 ],
 "metadata": {
  "kernelspec": {
   "display_name": "fp",
   "language": "python",
   "name": "fp"
  },
  "language_info": {
   "codemirror_mode": {
    "name": "ipython",
    "version": 3
   },
   "file_extension": ".py",
   "mimetype": "text/x-python",
   "name": "python",
   "nbconvert_exporter": "python",
   "pygments_lexer": "ipython3",
   "version": "3.8.5"
  }
 },
 "nbformat": 4,
 "nbformat_minor": 4
}
