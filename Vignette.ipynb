{
 "cells": [
  {
   "cell_type": "markdown",
   "metadata": {},
   "source": [
    "## University of British Columbia LIbrary API Vignette\n",
    "### Introduction\n",
    "This package facilitates access to the British Columbia Library archives.  It has three functions:\n",
    "1. one that demonstrates the collections and the number of items in each collection.\n",
    "2. one that lists the field structure of a given collection.\n",
    "3. one that comapares different fields in two selected lists of fields in a collection.\n",
    "\n",
    "The package expands on the existing documentation on the UBC api endpoint website because it provides a more concrete demonstration of the structure of the data.  Even though the UBC api endpoint demonstrates a way to collect the full text on all items in the \"darwin\" collection, because many of the collections (including the \"darwin\" collection) have varying field structures, making it difficult to effectively apply that function.  After using the second and third functions of this package to identify the differences between structures in collection data fields, users can utilize the field function demonstrated on the UBC api endpoint for any function.  Future iterations of this package will expand on this utility.\n",
    "\n",
    "Access:\n",
    "You do not need to register for a private api key, as the pubic api key is encoded by default into the functions of this package.  However, you can register for a private api code here/[https://open.library.ubc.ca/docs#register-api-key], as it allows for a higher request traffic rate of 200 request per minute (rather than 10 requests per minute).\n",
    "\n",
    "Using the package:\n",
    "First, import:"
   ]
  },
  {
   "cell_type": "code",
   "execution_count": 1,
   "metadata": {},
   "outputs": [],
   "source": [
    "from final_project_herman_arielle import final_project_herman_arielle as fp"
   ]
  },
  {
   "cell_type": "markdown",
   "metadata": {},
   "source": [
    "This next step is optional, as UBC provides a public api key, and the functions in this package utilize this key by default."
   ]
  },
  {
   "cell_type": "code",
   "execution_count": 19,
   "metadata": {},
   "outputs": [
    {
     "name": "stdout",
     "output_type": "stream",
     "text": [
      "897\n"
     ]
    }
   ],
   "source": [
    "bc_api_key = os.getenv(\"POETRY_BC_LIBRARY_API_KEY\")\n",
    "print(bc_api_key[:3])"
   ]
  },
  {
   "cell_type": "markdown",
   "metadata": {},
   "source": [
    "## Functions\n",
    "#### 1.  List collections"
   ]
  },
  {
   "cell_type": "code",
   "execution_count": 3,
   "metadata": {},
   "outputs": [
    {
     "name": "stdout",
     "output_type": "stream",
     "text": [
      "This function utilizes the British Columbia Library public API Key by default, which limits requests to 10 per minute. \n",
      "The status of the first request is:  200 . Please wait. \n",
      "\n",
      "The status of the second request is: 200.  Please wait. \n",
      "\n",
      "Halfway there! \n",
      "\n",
      "darwin is a currently listed collection. \n",
      "\n",
      "foobar is not a current collection in the University of British Columbia Library. \n",
      "Please check your spelling or check the output to see available collections. \n",
      "\n"
     ]
    },
    {
     "data": {
      "text/html": [
       "<div>\n",
       "<style scoped>\n",
       "    .dataframe tbody tr th:only-of-type {\n",
       "        vertical-align: middle;\n",
       "    }\n",
       "\n",
       "    .dataframe tbody tr th {\n",
       "        vertical-align: top;\n",
       "    }\n",
       "\n",
       "    .dataframe thead th {\n",
       "        text-align: right;\n",
       "    }\n",
       "</style>\n",
       "<table border=\"1\" class=\"dataframe\">\n",
       "  <thead>\n",
       "    <tr style=\"text-align: right;\">\n",
       "      <th></th>\n",
       "      <th>CollectionID</th>\n",
       "      <th>CollectionName</th>\n",
       "      <th>description</th>\n",
       "      <th>items</th>\n",
       "    </tr>\n",
       "  </thead>\n",
       "  <tbody>\n",
       "    <tr>\n",
       "      <th>0</th>\n",
       "      <td>aaah</td>\n",
       "      <td>Newspapers - The Alice Arm and Anyox Herald</td>\n",
       "      <td></td>\n",
       "      <td>707</td>\n",
       "    </tr>\n",
       "    <tr>\n",
       "      <th>1</th>\n",
       "      <td>alumchron</td>\n",
       "      <td>The Graduate Chronicle/The UBC Alumni Chronicl...</td>\n",
       "      <td>Published since 1931 by the UBC Alumni Associa...</td>\n",
       "      <td>282</td>\n",
       "    </tr>\n",
       "    <tr>\n",
       "      <th>2</th>\n",
       "      <td>310</td>\n",
       "      <td>SCARP Graduating Projects</td>\n",
       "      <td></td>\n",
       "      <td>210</td>\n",
       "    </tr>\n",
       "    <tr>\n",
       "      <th>3</th>\n",
       "      <td>494</td>\n",
       "      <td>Library Staff Publications and Research</td>\n",
       "      <td>This collection includes published papers, wor...</td>\n",
       "      <td>218</td>\n",
       "    </tr>\n",
       "    <tr>\n",
       "      <th>4</th>\n",
       "      <td>641</td>\n",
       "      <td>UBC Press Publications, Supplements, and Catal...</td>\n",
       "      <td>Here you will find online supplements to books...</td>\n",
       "      <td>124</td>\n",
       "    </tr>\n",
       "    <tr>\n",
       "      <th>...</th>\n",
       "      <td>...</td>\n",
       "      <td>...</td>\n",
       "      <td>...</td>\n",
       "      <td>...</td>\n",
       "    </tr>\n",
       "    <tr>\n",
       "      <th>326</th>\n",
       "      <td>yipsang</td>\n",
       "      <td>Yip Sang Collection</td>\n",
       "      <td>The Yip family in Vancouver began with Yip San...</td>\n",
       "      <td>635</td>\n",
       "    </tr>\n",
       "    <tr>\n",
       "      <th>327</th>\n",
       "      <td>ymirherald</td>\n",
       "      <td>Newspapers - Ymir Herald</td>\n",
       "      <td></td>\n",
       "      <td>78</td>\n",
       "    </tr>\n",
       "    <tr>\n",
       "      <th>328</th>\n",
       "      <td>ymirminer</td>\n",
       "      <td>Newspapers - Ymir Miner</td>\n",
       "      <td></td>\n",
       "      <td>1</td>\n",
       "    </tr>\n",
       "    <tr>\n",
       "      <th>329</th>\n",
       "      <td>ymirmirror</td>\n",
       "      <td>Newspapers - Ymir Mirror</td>\n",
       "      <td></td>\n",
       "      <td>18</td>\n",
       "    </tr>\n",
       "    <tr>\n",
       "      <th>330</th>\n",
       "      <td>24</td>\n",
       "      <td>Electronic Theses and Dissertations (ETDs) 2008+</td>\n",
       "      <td>&lt;b&gt;Note:&lt;/b&gt; A &lt;a href=\"http://circle.sites.ol...</td>\n",
       "      <td>16210</td>\n",
       "    </tr>\n",
       "  </tbody>\n",
       "</table>\n",
       "<p>331 rows × 4 columns</p>\n",
       "</div>"
      ],
      "text/plain": [
       "    CollectionID                                     CollectionName  \\\n",
       "0           aaah        Newspapers - The Alice Arm and Anyox Herald   \n",
       "1      alumchron  The Graduate Chronicle/The UBC Alumni Chronicl...   \n",
       "2            310                          SCARP Graduating Projects   \n",
       "3            494            Library Staff Publications and Research   \n",
       "4            641  UBC Press Publications, Supplements, and Catal...   \n",
       "..           ...                                                ...   \n",
       "326      yipsang                                Yip Sang Collection   \n",
       "327   ymirherald                           Newspapers - Ymir Herald   \n",
       "328    ymirminer                            Newspapers - Ymir Miner   \n",
       "329   ymirmirror                           Newspapers - Ymir Mirror   \n",
       "330           24   Electronic Theses and Dissertations (ETDs) 2008+   \n",
       "\n",
       "                                           description  items  \n",
       "0                                                         707  \n",
       "1    Published since 1931 by the UBC Alumni Associa...    282  \n",
       "2                                                         210  \n",
       "3    This collection includes published papers, wor...    218  \n",
       "4    Here you will find online supplements to books...    124  \n",
       "..                                                 ...    ...  \n",
       "326  The Yip family in Vancouver began with Yip San...    635  \n",
       "327                                                        78  \n",
       "328                                                         1  \n",
       "329                                                        18  \n",
       "330  <b>Note:</b> A <a href=\"http://circle.sites.ol...  16210  \n",
       "\n",
       "[331 rows x 4 columns]"
      ]
     },
     "execution_count": 3,
     "metadata": {},
     "output_type": "execute_result"
    }
   ],
   "source": [
    "fp.collections(\"darwin\", \"foobar\")"
   ]
  },
  {
   "cell_type": "markdown",
   "metadata": {},
   "source": [
    "#### 2. List field structures of a given collection"
   ]
  },
  {
   "cell_type": "code",
   "execution_count": 4,
   "metadata": {},
   "outputs": [
    {
     "name": "stdout",
     "output_type": "stream",
     "text": [
      "This function utilizes the University of British Columbia public api key by default.You can register for a free private api key that will be able to perform 200 requests per minute. \n",
      "\n",
      "The request to retrieve the list of items in a collection was successful, and the status code is: 200.\n",
      "Please wait while collecting field structure information on 52 items. \n",
      "\n",
      "The status code for the request to retrieve the structures in the collection is: 200. \n",
      "\n",
      "There are 2 field structures in this collection.\n"
     ]
    },
    {
     "data": {
      "text/plain": [
       "{0: ['AIPUUID',\n",
       "  'AggregatedSourceRepository',\n",
       "  'CatalogueRecord',\n",
       "  'Collection',\n",
       "  'Creator',\n",
       "  'DateAvailable',\n",
       "  'DateCreated',\n",
       "  'Description',\n",
       "  'DigitalResourceOriginalRecord',\n",
       "  'Extent',\n",
       "  'FileFormat',\n",
       "  'FullText',\n",
       "  'Genre',\n",
       "  'Identifier',\n",
       "  'IsShownAt',\n",
       "  'Language',\n",
       "  'PersonOrCorporation',\n",
       "  'Provider',\n",
       "  'Rights',\n",
       "  'SortDate',\n",
       "  'Source',\n",
       "  'Title',\n",
       "  'Type'],\n",
       " 1: ['AIPUUID',\n",
       "  'AggregatedSourceRepository',\n",
       "  'CatalogueRecord',\n",
       "  'Collection',\n",
       "  'Creator',\n",
       "  'DateAvailable',\n",
       "  'DateCreated',\n",
       "  'Description',\n",
       "  'DigitalResourceOriginalRecord',\n",
       "  'Extent',\n",
       "  'FileFormat',\n",
       "  'FullText',\n",
       "  'Genre',\n",
       "  'Identifier',\n",
       "  'IsShownAt',\n",
       "  'Language',\n",
       "  'Notes',\n",
       "  'PersonOrCorporation',\n",
       "  'Provider',\n",
       "  'Rights',\n",
       "  'SortDate',\n",
       "  'Source',\n",
       "  'Title',\n",
       "  'Type']}"
      ]
     },
     "execution_count": 4,
     "metadata": {},
     "output_type": "execute_result"
    }
   ],
   "source": [
    "example = fp.structures(\"darwin\")\n",
    "example"
   ]
  },
  {
   "cell_type": "markdown",
   "metadata": {},
   "source": [
    "#### 3. List the differences between two structures of a given collection"
   ]
  },
  {
   "cell_type": "code",
   "execution_count": 5,
   "metadata": {},
   "outputs": [
    {
     "data": {
      "text/plain": [
       "{0: {'struct1Fields': 23, 'uniqueComponents': []},\n",
       " 1: {'struct2Fields': 24, 'uniqueComponents': ['Notes']}}"
      ]
     },
     "execution_count": 5,
     "metadata": {},
     "output_type": "execute_result"
    }
   ],
   "source": [
    "fp.difference_two(example[0], example[1])"
   ]
  },
  {
   "cell_type": "code",
   "execution_count": 7,
   "metadata": {},
   "outputs": [
    {
     "name": "stdout",
     "output_type": "stream",
     "text": [
      "Help on function collections in module final_project_herman_arielle.final_project_herman_arielle:\n",
      "\n",
      "collections(*searches, api_key='ac40e6c2cb345593ed1691e0a8b601bba398e42d85f81f893c5ab709cec63c6c')\n",
      "    Returns a complete list of the current collections in the British Columbia University Library with some metadata\n",
      "    and whether or not specific items are in the list.\n",
      "    \n",
      "    By default, it uses the British Columbia Library public API key, and makes two get requests: one to access an endpoint\n",
      "    with a full list of the collections and a second endpoint with metadata (full name, number of items, and brief\n",
      "    description).  If the user does not enter an api key, the function returns a warning message suggesting that the user\n",
      "    register for a private api key.  This function can optionally accept searches for specific collections, and returns\n",
      "    whether or not they are in the full list.  Finally, this function automatically cleans the descriptions of html jargon.\n",
      "    \n",
      "    Parameters:\n",
      "    *searches (str): any character string.\n",
      "    api_key (str): accepts a private api key registered through the British Columbia University Library:\n",
      "        https://open.library.ubc.ca/docs#reference-search-params\n",
      "        \n",
      "    Returns:\n",
      "    pd.DataFrame containing the full name, nickname, description, and number of items in each collection.\n",
      "    \n",
      "    Example:\n",
      "    >>>from final_project_herman_arielle import final_project_herman_arielle as fp\n",
      "    >>>fp.collections(\"darwin\", \"foobar\")\n",
      "    This function utilizes the British Columbia Library public API Key by default, which limits requests to 10 per minute.\n",
      "    The status of the first request is: 200. Please wait.\n",
      "    \n",
      "    The status of the second request is: 200. Please wait.\n",
      "    \n",
      "    Halfway there!\n",
      "    \n",
      "    darwin is a currently listed collection.\n",
      "    \n",
      "    foobar is not a current collection in the University of British Columbia Library.\n",
      "    Please check your spelling or check the output to see available collections.\n",
      "    \n",
      "        CollectionID  ...  items\n",
      "    0           aaah  ...    707\n",
      "    1      alumchron  ...    282\n",
      "    2            310  ...    210\n",
      "    3            494  ...    218\n",
      "    4            641  ...    124\n",
      "    ..           ...  ...    ...\n",
      "    326      yipsang  ...    635\n",
      "    327   ymirherald  ...     78\n",
      "    328    ymirminer  ...      1\n",
      "    329   ymirmirror  ...     18\n",
      "    330           24  ...  16210\n",
      "    \n",
      "    [331 rows x 4 columns]\n",
      "\n"
     ]
    }
   ],
   "source": [
    "help(fp.collections)"
   ]
  },
  {
   "cell_type": "markdown",
   "metadata": {},
   "source": []
  }
 ],
 "metadata": {
  "kernelspec": {
   "display_name": "fp",
   "language": "python",
   "name": "fp"
  },
  "language_info": {
   "codemirror_mode": {
    "name": "ipython",
    "version": 3
   },
   "file_extension": ".py",
   "mimetype": "text/x-python",
   "name": "python",
   "nbconvert_exporter": "python",
   "pygments_lexer": "ipython3",
   "version": "3.8.5"
  }
 },
 "nbformat": 4,
 "nbformat_minor": 4
}
