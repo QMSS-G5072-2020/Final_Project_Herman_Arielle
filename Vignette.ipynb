{
 "cells": [
  {
   "cell_type": "markdown",
   "metadata": {},
   "source": [
    "Final Project Vignette Examples"
   ]
  },
  {
   "cell_type": "code",
   "execution_count": null,
   "metadata": {},
   "outputs": [],
   "source": [
    "# libraries\n",
    "import requests\n",
    "import os\n",
    "import pandas as pd\n",
    "import json\n",
    "import math # hmm\n",
    "import numpy as np"
   ]
  },
  {
   "cell_type": "code",
   "execution_count": null,
   "metadata": {},
   "outputs": [],
   "source": [
    "bc_api_key = os.getenv(\"POETRY_BC_LIBRARY_API_KEY\")\n",
    "print(bc_api_key[:5])"
   ]
  },
  {
   "cell_type": "code",
   "execution_count": null,
   "metadata": {},
   "outputs": [],
   "source": [
    "def collections(*searches, api_key=\"ac40e6c2cb345593ed1691e0a8b601bba398e42d85f81f893c5ab709cec63c6c\"):\n",
    "    # 1. api_key\n",
    "    if api_key==\"ac40e6c2cb345593ed1691e0a8b601bba398e42d85f81f893c5ab709cec63c6c\":\n",
    "        print('This function utilizes the British Columbia Library public API Key by default, '\n",
    "              'which limits requests to 10 per minute. '\n",
    "              'Please register for a free private API Key to make up to 200 requests per minute. \\n')\n",
    "    \n",
    "    # 2. \n",
    "    params = {'api_key':api_key}\n",
    "    r = requests.get(f'https://oc2-index.library.ubc.ca/collections', params=params)\n",
    "    print('The status of this request is: ', r.status_code, '. Please wait. \\n')\n",
    "    rseries = pd.DataFrame(r.json()).loc[:, ['data']].applymap(str) # change request into dataframe and make it str, to enable merge\n",
    "    \n",
    "    # 3. get metadata\n",
    "    items_dict = {}\n",
    "    i = 0\n",
    "    for name in rseries['data'][:10]:\n",
    "        ritems = requests.get(f'https://oc2-index.library.ubc.ca/collections/{str(name)}', params=params).json()['data']\n",
    "        items_dict[i] = [name, ritems['title'], ritems['description'], ritems['items']]\n",
    "        i += 1\n",
    "     \n",
    "    # 4. check\n",
    "    for search in searches:\n",
    "        if search in ritems['title'] or search in rseries['data'].any():\n",
    "            print(f'{search} is a currently listed collection. \\n')\n",
    "        else:\n",
    "            print(f'{search} is not a current collection in the University of British Columbia Library. \\n'\n",
    "                  'Please check your spelling or check the output to see available collections.')    \n",
    "        \n",
    "    items_df = pd.DataFrame.from_dict(items_dict, orient='index',\n",
    "                                      columns=['CollectionID','CollectionName', 'description', 'items'])\n",
    "    items_clean = items_df.replace(to_replace=[r'</?(p|span|title|i|a)(\\s(class|style)=\"\\w*\\W*?.?\")?>|\\r\\n|&#\\d{1,5}'], value=[''], regex=True)\n",
    "    \n",
    "    return items_clean\n",
    "x = collections(\"aaah\", \"xxx\", api_key=bc_api_key)\n",
    "x"
   ]
  }
 ],
 "metadata": {
  "kernelspec": {
   "display_name": "fp",
   "language": "python",
   "name": "fp"
  },
  "language_info": {
   "codemirror_mode": {
    "name": "ipython",
    "version": 3
   },
   "file_extension": ".py",
   "mimetype": "text/x-python",
   "name": "python",
   "nbconvert_exporter": "python",
   "pygments_lexer": "ipython3",
   "version": "3.8.5"
  }
 },
 "nbformat": 4,
 "nbformat_minor": 4
}
